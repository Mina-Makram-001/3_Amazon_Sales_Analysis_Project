{
 "cells": [
  {
   "cell_type": "markdown",
   "id": "13172319",
   "metadata": {},
   "source": [
    "## what we are going to answer in that section\n",
    "\n",
    "6. Who are the **top reviewers** (users with the most reviews)?\n",
    "7. Which **products** received the **most reviews**?\n",
    "8. What are the **most frequent words** in review titles or review content? (Text analysis)\n",
    "9. Is there a noticeable trend in **review ratings** vs. **review length** (longer reviews = higher/lower ratings)?"
   ]
  },
  {
   "cell_type": "code",
   "execution_count": 1,
   "id": "b80ca0d4",
   "metadata": {},
   "outputs": [],
   "source": [
    "import ast \n",
    "import numpy as np\n",
    "import pandas as pd\n",
    "import matplotlib.pyplot as plt\n",
    "import matplotlib.dates as mdates\n",
    "import matplotlib.ticker as mtick\n",
    "import seaborn as sns\n",
    "import statsmodels.api as sm\n",
    "\n",
    "# Set the path to the file you'd like to load\n",
    "file_path = 'M:/3_datasets/amazon_data.csv'\n",
    "\n",
    "# Load the latest version\n",
    "df = pd.read_csv(file_path)\n",
    "\n",
    "# clean \n",
    "df['actual_price'] = (df['actual_price'].str.replace('₹', '', regex=False).str.replace(',', '', regex=False))\n",
    "df['discounted_price'] = (df['discounted_price'].str.replace('₹', '', regex=False).str.replace(',', '', regex=False))\n",
    "df['discount_percentage'] = (df['discount_percentage'].str.replace('%', '', regex=False).str.replace(',', '', regex=False))\n",
    "df['rating_count'] = (df['rating_count'].str.replace(',', '', regex=False))\n",
    "df['rating'] = (df['rating'].str.replace('|', '0', regex=False))\n",
    "\n",
    "\n",
    "df['actual_price']= df['actual_price'].astype(float)\n",
    "df['discounted_price']= df['discounted_price'].astype(float)\n",
    "df['discount_percentage']= df['discount_percentage'].astype(float)\n",
    "df['rating_count']= df['rating_count'].astype(float)\n",
    "df['rating']= df['rating'].astype(float)\n",
    "\n",
    "# turn discount_percentage to float percentage\n",
    "df['discount_percentage']= df['discount_percentage'].apply(lambda x: x/100)\n",
    "\n",
    "# make the discounted_price more accurate\n",
    "df['discounted_price'] = (df['actual_price'] * (1 - df['discount_percentage']))"
   ]
  },
  {
   "cell_type": "code",
   "execution_count": null,
   "id": "14d727e4",
   "metadata": {},
   "outputs": [],
   "source": []
  }
 ],
 "metadata": {
  "kernelspec": {
   "display_name": "data_env",
   "language": "python",
   "name": "python3"
  },
  "language_info": {
   "codemirror_mode": {
    "name": "ipython",
    "version": 3
   },
   "file_extension": ".py",
   "mimetype": "text/x-python",
   "name": "python",
   "nbconvert_exporter": "python",
   "pygments_lexer": "ipython3",
   "version": "3.12.11"
  }
 },
 "nbformat": 4,
 "nbformat_minor": 5
}
